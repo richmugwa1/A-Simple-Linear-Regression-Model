{
  "nbformat": 4,
  "nbformat_minor": 0,
  "metadata": {
    "colab": {
      "name": "Linear regression exercise.ipynb",
      "provenance": [],
      "collapsed_sections": [],
      "toc_visible": true,
      "authorship_tag": "ABX9TyOW6RYZBuzrwxaDbBTgxxSc",
      "include_colab_link": true
    },
    "kernelspec": {
      "name": "python3",
      "display_name": "Python 3"
    }
  },
  "cells": [
    {
      "cell_type": "markdown",
      "metadata": {
        "id": "view-in-github",
        "colab_type": "text"
      },
      "source": [
        "<a href=\"https://colab.research.google.com/github/richmugwa1/A-Simple-Linear-Regression-Model/blob/master/Simple_Linear_Regression.ipynb\" target=\"_parent\"><img src=\"https://colab.research.google.com/assets/colab-badge.svg\" alt=\"Open In Colab\"/></a>"
      ]
    },
    {
      "cell_type": "markdown",
      "metadata": {
        "id": "coh6Y97VCpTS",
        "colab_type": "text"
      },
      "source": [
        "# Check the version of tensorflow"
      ]
    },
    {
      "cell_type": "code",
      "metadata": {
        "id": "s98oVg6hNOsk",
        "colab_type": "code",
        "colab": {}
      },
      "source": [
        "%tensorflow_version 2.x"
      ],
      "execution_count": 0,
      "outputs": []
    },
    {
      "cell_type": "markdown",
      "metadata": {
        "id": "rAZ8euxKCuuY",
        "colab_type": "text"
      },
      "source": [
        "# Import Modules to be used in a linear regression"
      ]
    },
    {
      "cell_type": "code",
      "metadata": {
        "id": "VnG90f3CC1uq",
        "colab_type": "code",
        "colab": {}
      },
      "source": [
        "import pandas as pd\n",
        "import tensorflow as tf\n",
        "from matplotlib import pyplot as plt"
      ],
      "execution_count": 0,
      "outputs": []
    },
    {
      "cell_type": "markdown",
      "metadata": {
        "id": "XfZnpAliEyN7",
        "colab_type": "text"
      },
      "source": [
        "# Define the granuality of the reporting (How detailed is the data)"
      ]
    },
    {
      "cell_type": "code",
      "metadata": {
        "id": "Am2yBxtwE2AN",
        "colab_type": "code",
        "colab": {}
      },
      "source": [
        "pd.options.display.max_rows = 10\n",
        "pd.options.display.float_format = \"{:.1f}\".format"
      ],
      "execution_count": 0,
      "outputs": []
    },
    {
      "cell_type": "markdown",
      "metadata": {
        "id": "tDwF_nH1KOOR",
        "colab_type": "text"
      },
      "source": [
        "# Import and manage a Dataset (.csv) into a Pandas dataframe "
      ]
    },
    {
      "cell_type": "code",
      "metadata": {
        "id": "6oCazvj2KdU6",
        "colab_type": "code",
        "colab": {
          "base_uri": "https://localhost:8080/",
          "height": 224
        },
        "outputId": "fcb25bef-2dab-4458-d51f-e3ba759677d0"
      },
      "source": [
        "training_df = pd.read_csv(filepath_or_buffer=\"https://download.mlcc.google.com/mledu-datasets/california_housing_train.csv\")\n",
        "training_df.head()"
      ],
      "execution_count": 98,
      "outputs": [
        {
          "output_type": "execute_result",
          "data": {
            "text/html": [
              "<div>\n",
              "<style scoped>\n",
              "    .dataframe tbody tr th:only-of-type {\n",
              "        vertical-align: middle;\n",
              "    }\n",
              "\n",
              "    .dataframe tbody tr th {\n",
              "        vertical-align: top;\n",
              "    }\n",
              "\n",
              "    .dataframe thead th {\n",
              "        text-align: right;\n",
              "    }\n",
              "</style>\n",
              "<table border=\"1\" class=\"dataframe\">\n",
              "  <thead>\n",
              "    <tr style=\"text-align: right;\">\n",
              "      <th></th>\n",
              "      <th>longitude</th>\n",
              "      <th>latitude</th>\n",
              "      <th>housing_median_age</th>\n",
              "      <th>total_rooms</th>\n",
              "      <th>total_bedrooms</th>\n",
              "      <th>population</th>\n",
              "      <th>households</th>\n",
              "      <th>median_income</th>\n",
              "      <th>median_house_value</th>\n",
              "    </tr>\n",
              "  </thead>\n",
              "  <tbody>\n",
              "    <tr>\n",
              "      <th>0</th>\n",
              "      <td>-114.3</td>\n",
              "      <td>34.2</td>\n",
              "      <td>15.0</td>\n",
              "      <td>5612.0</td>\n",
              "      <td>1283.0</td>\n",
              "      <td>1015.0</td>\n",
              "      <td>472.0</td>\n",
              "      <td>1.5</td>\n",
              "      <td>66900.0</td>\n",
              "    </tr>\n",
              "    <tr>\n",
              "      <th>1</th>\n",
              "      <td>-114.5</td>\n",
              "      <td>34.4</td>\n",
              "      <td>19.0</td>\n",
              "      <td>7650.0</td>\n",
              "      <td>1901.0</td>\n",
              "      <td>1129.0</td>\n",
              "      <td>463.0</td>\n",
              "      <td>1.8</td>\n",
              "      <td>80100.0</td>\n",
              "    </tr>\n",
              "    <tr>\n",
              "      <th>2</th>\n",
              "      <td>-114.6</td>\n",
              "      <td>33.7</td>\n",
              "      <td>17.0</td>\n",
              "      <td>720.0</td>\n",
              "      <td>174.0</td>\n",
              "      <td>333.0</td>\n",
              "      <td>117.0</td>\n",
              "      <td>1.7</td>\n",
              "      <td>85700.0</td>\n",
              "    </tr>\n",
              "    <tr>\n",
              "      <th>3</th>\n",
              "      <td>-114.6</td>\n",
              "      <td>33.6</td>\n",
              "      <td>14.0</td>\n",
              "      <td>1501.0</td>\n",
              "      <td>337.0</td>\n",
              "      <td>515.0</td>\n",
              "      <td>226.0</td>\n",
              "      <td>3.2</td>\n",
              "      <td>73400.0</td>\n",
              "    </tr>\n",
              "    <tr>\n",
              "      <th>4</th>\n",
              "      <td>-114.6</td>\n",
              "      <td>33.6</td>\n",
              "      <td>20.0</td>\n",
              "      <td>1454.0</td>\n",
              "      <td>326.0</td>\n",
              "      <td>624.0</td>\n",
              "      <td>262.0</td>\n",
              "      <td>1.9</td>\n",
              "      <td>65500.0</td>\n",
              "    </tr>\n",
              "  </tbody>\n",
              "</table>\n",
              "</div>"
            ],
            "text/plain": [
              "   longitude  latitude  ...  median_income  median_house_value\n",
              "0     -114.3      34.2  ...            1.5             66900.0\n",
              "1     -114.5      34.4  ...            1.8             80100.0\n",
              "2     -114.6      33.7  ...            1.7             85700.0\n",
              "3     -114.6      33.6  ...            3.2             73400.0\n",
              "4     -114.6      33.6  ...            1.9             65500.0\n",
              "\n",
              "[5 rows x 9 columns]"
            ]
          },
          "metadata": {
            "tags": []
          },
          "execution_count": 98
        }
      ]
    },
    {
      "cell_type": "markdown",
      "metadata": {
        "id": "j-HkKknKK5I5",
        "colab_type": "text"
      },
      "source": [
        "Scale the values in the label (median_house_value)"
      ]
    },
    {
      "cell_type": "code",
      "metadata": {
        "id": "lqo2SOM7K4JA",
        "colab_type": "code",
        "colab": {}
      },
      "source": [
        "training_df[\"median_house_value\"] /=1000.0\n"
      ],
      "execution_count": 0,
      "outputs": []
    },
    {
      "cell_type": "markdown",
      "metadata": {
        "id": "6Yp0J_-eMCjC",
        "colab_type": "text"
      },
      "source": [
        "Get Statistics on the dataset to understand the data a little more"
      ]
    },
    {
      "cell_type": "code",
      "metadata": {
        "id": "_yRYtCrZMNo5",
        "colab_type": "code",
        "colab": {
          "base_uri": "https://localhost:8080/",
          "height": 317
        },
        "outputId": "a905f8a1-34e4-4d48-97b0-7d035c2da6af"
      },
      "source": [
        "training_df.describe()"
      ],
      "execution_count": 100,
      "outputs": [
        {
          "output_type": "execute_result",
          "data": {
            "text/html": [
              "<div>\n",
              "<style scoped>\n",
              "    .dataframe tbody tr th:only-of-type {\n",
              "        vertical-align: middle;\n",
              "    }\n",
              "\n",
              "    .dataframe tbody tr th {\n",
              "        vertical-align: top;\n",
              "    }\n",
              "\n",
              "    .dataframe thead th {\n",
              "        text-align: right;\n",
              "    }\n",
              "</style>\n",
              "<table border=\"1\" class=\"dataframe\">\n",
              "  <thead>\n",
              "    <tr style=\"text-align: right;\">\n",
              "      <th></th>\n",
              "      <th>longitude</th>\n",
              "      <th>latitude</th>\n",
              "      <th>housing_median_age</th>\n",
              "      <th>total_rooms</th>\n",
              "      <th>total_bedrooms</th>\n",
              "      <th>population</th>\n",
              "      <th>households</th>\n",
              "      <th>median_income</th>\n",
              "      <th>median_house_value</th>\n",
              "    </tr>\n",
              "  </thead>\n",
              "  <tbody>\n",
              "    <tr>\n",
              "      <th>count</th>\n",
              "      <td>17000.0</td>\n",
              "      <td>17000.0</td>\n",
              "      <td>17000.0</td>\n",
              "      <td>17000.0</td>\n",
              "      <td>17000.0</td>\n",
              "      <td>17000.0</td>\n",
              "      <td>17000.0</td>\n",
              "      <td>17000.0</td>\n",
              "      <td>17000.0</td>\n",
              "    </tr>\n",
              "    <tr>\n",
              "      <th>mean</th>\n",
              "      <td>-119.6</td>\n",
              "      <td>35.6</td>\n",
              "      <td>28.6</td>\n",
              "      <td>2643.7</td>\n",
              "      <td>539.4</td>\n",
              "      <td>1429.6</td>\n",
              "      <td>501.2</td>\n",
              "      <td>3.9</td>\n",
              "      <td>207.3</td>\n",
              "    </tr>\n",
              "    <tr>\n",
              "      <th>std</th>\n",
              "      <td>2.0</td>\n",
              "      <td>2.1</td>\n",
              "      <td>12.6</td>\n",
              "      <td>2179.9</td>\n",
              "      <td>421.5</td>\n",
              "      <td>1147.9</td>\n",
              "      <td>384.5</td>\n",
              "      <td>1.9</td>\n",
              "      <td>116.0</td>\n",
              "    </tr>\n",
              "    <tr>\n",
              "      <th>min</th>\n",
              "      <td>-124.3</td>\n",
              "      <td>32.5</td>\n",
              "      <td>1.0</td>\n",
              "      <td>2.0</td>\n",
              "      <td>1.0</td>\n",
              "      <td>3.0</td>\n",
              "      <td>1.0</td>\n",
              "      <td>0.5</td>\n",
              "      <td>15.0</td>\n",
              "    </tr>\n",
              "    <tr>\n",
              "      <th>25%</th>\n",
              "      <td>-121.8</td>\n",
              "      <td>33.9</td>\n",
              "      <td>18.0</td>\n",
              "      <td>1462.0</td>\n",
              "      <td>297.0</td>\n",
              "      <td>790.0</td>\n",
              "      <td>282.0</td>\n",
              "      <td>2.6</td>\n",
              "      <td>119.4</td>\n",
              "    </tr>\n",
              "    <tr>\n",
              "      <th>50%</th>\n",
              "      <td>-118.5</td>\n",
              "      <td>34.2</td>\n",
              "      <td>29.0</td>\n",
              "      <td>2127.0</td>\n",
              "      <td>434.0</td>\n",
              "      <td>1167.0</td>\n",
              "      <td>409.0</td>\n",
              "      <td>3.5</td>\n",
              "      <td>180.4</td>\n",
              "    </tr>\n",
              "    <tr>\n",
              "      <th>75%</th>\n",
              "      <td>-118.0</td>\n",
              "      <td>37.7</td>\n",
              "      <td>37.0</td>\n",
              "      <td>3151.2</td>\n",
              "      <td>648.2</td>\n",
              "      <td>1721.0</td>\n",
              "      <td>605.2</td>\n",
              "      <td>4.8</td>\n",
              "      <td>265.0</td>\n",
              "    </tr>\n",
              "    <tr>\n",
              "      <th>max</th>\n",
              "      <td>-114.3</td>\n",
              "      <td>42.0</td>\n",
              "      <td>52.0</td>\n",
              "      <td>37937.0</td>\n",
              "      <td>6445.0</td>\n",
              "      <td>35682.0</td>\n",
              "      <td>6082.0</td>\n",
              "      <td>15.0</td>\n",
              "      <td>500.0</td>\n",
              "    </tr>\n",
              "  </tbody>\n",
              "</table>\n",
              "</div>"
            ],
            "text/plain": [
              "       longitude  latitude  ...  median_income  median_house_value\n",
              "count    17000.0   17000.0  ...        17000.0             17000.0\n",
              "mean      -119.6      35.6  ...            3.9               207.3\n",
              "std          2.0       2.1  ...            1.9               116.0\n",
              "min       -124.3      32.5  ...            0.5                15.0\n",
              "25%       -121.8      33.9  ...            2.6               119.4\n",
              "50%       -118.5      34.2  ...            3.5               180.4\n",
              "75%       -118.0      37.7  ...            4.8               265.0\n",
              "max       -114.3      42.0  ...           15.0               500.0\n",
              "\n",
              "[8 rows x 9 columns]"
            ]
          },
          "metadata": {
            "tags": []
          },
          "execution_count": 100
        }
      ]
    },
    {
      "cell_type": "markdown",
      "metadata": {
        "id": "OEZqInP9oW7Z",
        "colab_type": "text"
      },
      "source": [
        "# Build and Train the Model"
      ]
    },
    {
      "cell_type": "markdown",
      "metadata": {
        "id": "OmJelYBTU467",
        "colab_type": "text"
      },
      "source": [
        "Define a function that builds a model"
      ]
    },
    {
      "cell_type": "code",
      "metadata": {
        "id": "p61QZ_fTU2go",
        "colab_type": "code",
        "colab": {}
      },
      "source": [
        "def build_model(my_learning_rate):\n",
        "  model = tf.keras.models.Sequential() #Most simple tf keras model is sequential\n",
        "  model.add(tf.keras.layers.Dense(units=1, input_shape = (1, ))) # Define a topography of the model with is a single node in a single layer in a simple linear regression model\n",
        "  model.compile(optimizer=tf.keras.optimizers.RMSprop(lr=my_learning_rate), \n",
        "                loss = \"mean_squared_error\", \n",
        "                metrics = [tf.keras.metrics.RootMeanSquaredError()]) #Compile model by configuring training to minimize the mean squared error\n",
        "  return model\n",
        "\n"
      ],
      "execution_count": 0,
      "outputs": []
    },
    {
      "cell_type": "markdown",
      "metadata": {
        "id": "2JzP4ZpRZpZL",
        "colab_type": "text"
      },
      "source": [
        "Define a function that trains the model"
      ]
    },
    {
      "cell_type": "code",
      "metadata": {
        "id": "jRxu2RCTZyhY",
        "colab_type": "code",
        "colab": {}
      },
      "source": [
        "def train_model(model, df, feature, label, epochs, batch_size):\n",
        "  history = model.fit(x=df[feature],\n",
        "                      y=df[label],\n",
        "                      batch_size=batch_size,\n",
        "                      epochs=epochs) # Feed the model with the feature and label values. It will train for a specified number of epochs.\n",
        "  trained_weight = model.get_weights()[0] #Gather the trained model's weight\n",
        "  trained_bias = model.get_weights()[1] #Gather the trained model's bias\n",
        "  epochs = history.epoch # The list of epochs is stored separately from the rest of history\n",
        "  hist = pd.DataFrame(history.history) #Isolate the error for each epoch\n",
        "  rmse = hist[\"root_mean_squared_error\"] # Take a snap of the rmse at each epoch\n",
        "  return trained_weight, trained_bias, epochs, rmse \n",
        "\n",
        "\n"
      ],
      "execution_count": 0,
      "outputs": []
    },
    {
      "cell_type": "markdown",
      "metadata": {
        "id": "zIxWaNvUoe-W",
        "colab_type": "text"
      },
      "source": [
        "# Plot the Model"
      ]
    },
    {
      "cell_type": "markdown",
      "metadata": {
        "id": "gaxzB0iEhWke",
        "colab_type": "text"
      },
      "source": [
        "Define functions that plot the model"
      ]
    },
    {
      "cell_type": "code",
      "metadata": {
        "id": "j3lmPk2hhfL9",
        "colab_type": "code",
        "colab": {}
      },
      "source": [
        "def plot_the_model(trained_weight, trained_bias, feature, label):\n",
        "  plt.xlabel(feature)\n",
        "  plt.ylabel(label) # Labeling the axes\n",
        "  random_examples = training_df.sample(n=200) # Pick 200 random examples from the dataset\n",
        "  plt.scatter(random_examples[feature], random_examples[label]) #Scatter points of random examples\n",
        "  x0 = 0\n",
        "  y0 = trained_bias\n",
        "  x1 = 10000\n",
        "  y1 = trained_bias + (trained_weight * x1)\n",
        "  plt.plot([x0,x1], [y0,y1], c='r' ) # plot a red line that represents the model starting at coordinates(x0,y0) and ends at (x1,y1)\n",
        "  plt.show() # Render the scatter plot and the redline\n",
        "\n"
      ],
      "execution_count": 0,
      "outputs": []
    },
    {
      "cell_type": "markdown",
      "metadata": {
        "id": "0Ftxi5TUl49Z",
        "colab_type": "text"
      },
      "source": [
        "Plot the loss curve"
      ]
    },
    {
      "cell_type": "code",
      "metadata": {
        "id": "kj2VlW4Ml77i",
        "colab_type": "code",
        "colab": {}
      },
      "source": [
        "def plot_the_loss_curve(epochs, rmse):\n",
        "  plt.figure()\n",
        "  plt.xlabel (\"Epoch\")\n",
        "  plt.ylabel (\"Root Main Square Error\")\n",
        "  plt.plot(epochs, rmse, label = \"Loss\" )\n",
        "  plt.legend()\n",
        "  plt.ylim([rmse.min()*0.97, rmse.max()])\n",
        "  plt.show()\n",
        "  \n"
      ],
      "execution_count": 0,
      "outputs": []
    },
    {
      "cell_type": "markdown",
      "metadata": {
        "id": "wWn9u682fIx8",
        "colab_type": "text"
      },
      "source": [
        "#Call the model functions"
      ]
    },
    {
      "cell_type": "code",
      "metadata": {
        "id": "uPfaFURCga-x",
        "colab_type": "code",
        "colab": {
          "base_uri": "https://localhost:8080/",
          "height": 1000
        },
        "outputId": "e116f410-2529-4124-9db2-35c14f31227e"
      },
      "source": [
        "learning_rate = 0.01\n",
        "epochs = 30\n",
        "batch_size = 30\n",
        "my_feature = \"total_rooms\"\n",
        "my_label = \"median_house_value\"\n",
        "my_model = None\n",
        "my_model = build_model(learning_rate)\n",
        "weight, bias, epochs, rmse = train_model(my_model, training_df,\n",
        "                                        my_feature, my_label, epochs, batch_size)\n",
        "print(\"\\nThe learned weight of your model is %.4f\" % weight)\n",
        "print(\"The leaned bias of your model is %.4f\\n\"% bias)\n",
        "plot_the_model(weight, bias, my_feature, my_label)\n",
        "plot_the_loss_curve(epochs, rmse)"
      ],
      "execution_count": 108,
      "outputs": [
        {
          "output_type": "stream",
          "text": [
            "Epoch 1/30\n",
            "567/567 [==============================] - 1s 892us/step - loss: 2832907.7500 - root_mean_squared_error: 1683.6127\n",
            "Epoch 2/30\n",
            "567/567 [==============================] - 1s 900us/step - loss: 28448.3008 - root_mean_squared_error: 168.6622\n",
            "Epoch 3/30\n",
            "567/567 [==============================] - 0s 854us/step - loss: 27529.5469 - root_mean_squared_error: 165.9292\n",
            "Epoch 4/30\n",
            "567/567 [==============================] - 0s 874us/step - loss: 26818.7988 - root_mean_squared_error: 163.7764\n",
            "Epoch 5/30\n",
            "567/567 [==============================] - 0s 864us/step - loss: 25986.0938 - root_mean_squared_error: 161.2175\n",
            "Epoch 6/30\n",
            "567/567 [==============================] - 0s 877us/step - loss: 25370.6016 - root_mean_squared_error: 159.2643\n",
            "Epoch 7/30\n",
            "567/567 [==============================] - 0s 849us/step - loss: 24762.0508 - root_mean_squared_error: 157.3406\n",
            "Epoch 8/30\n",
            "567/567 [==============================] - 0s 881us/step - loss: 24115.0391 - root_mean_squared_error: 155.3025\n",
            "Epoch 9/30\n",
            "567/567 [==============================] - 1s 890us/step - loss: 23487.7715 - root_mean_squared_error: 153.2659\n",
            "Epoch 10/30\n",
            "567/567 [==============================] - 0s 871us/step - loss: 22871.4277 - root_mean_squared_error: 151.2512\n",
            "Epoch 11/30\n",
            "567/567 [==============================] - 0s 864us/step - loss: 22224.1367 - root_mean_squared_error: 149.0910\n",
            "Epoch 12/30\n",
            "567/567 [==============================] - 0s 876us/step - loss: 21696.9180 - root_mean_squared_error: 147.2886\n",
            "Epoch 13/30\n",
            "567/567 [==============================] - 0s 849us/step - loss: 20923.5723 - root_mean_squared_error: 144.6719\n",
            "Epoch 14/30\n",
            "567/567 [==============================] - 0s 873us/step - loss: 20600.0820 - root_mean_squared_error: 143.5289\n",
            "Epoch 15/30\n",
            "567/567 [==============================] - 0s 858us/step - loss: 20128.5547 - root_mean_squared_error: 141.8940\n",
            "Epoch 16/30\n",
            "567/567 [==============================] - 0s 874us/step - loss: 19745.0957 - root_mean_squared_error: 140.5180\n",
            "Epoch 17/30\n",
            "567/567 [==============================] - 1s 885us/step - loss: 19353.2090 - root_mean_squared_error: 139.1222\n",
            "Epoch 18/30\n",
            "567/567 [==============================] - 0s 881us/step - loss: 18966.6172 - root_mean_squared_error: 137.7415\n",
            "Epoch 19/30\n",
            "567/567 [==============================] - 0s 851us/step - loss: 18324.6660 - root_mean_squared_error: 135.3563\n",
            "Epoch 20/30\n",
            "567/567 [==============================] - 0s 868us/step - loss: 18033.9277 - root_mean_squared_error: 134.2694\n",
            "Epoch 21/30\n",
            "567/567 [==============================] - 0s 833us/step - loss: 17532.9023 - root_mean_squared_error: 132.4206\n",
            "Epoch 22/30\n",
            "567/567 [==============================] - 0s 873us/step - loss: 17360.9902 - root_mean_squared_error: 131.7523\n",
            "Epoch 23/30\n",
            "567/567 [==============================] - 0s 873us/step - loss: 17057.9727 - root_mean_squared_error: 130.5913\n",
            "Epoch 24/30\n",
            "567/567 [==============================] - 0s 868us/step - loss: 16775.3906 - root_mean_squared_error: 129.5300\n",
            "Epoch 25/30\n",
            "567/567 [==============================] - 0s 867us/step - loss: 16469.7949 - root_mean_squared_error: 128.3412\n",
            "Epoch 26/30\n",
            "567/567 [==============================] - 1s 896us/step - loss: 16324.3848 - root_mean_squared_error: 127.7636\n",
            "Epoch 27/30\n",
            "567/567 [==============================] - 0s 853us/step - loss: 16012.5098 - root_mean_squared_error: 126.5108\n",
            "Epoch 28/30\n",
            "567/567 [==============================] - 0s 842us/step - loss: 15811.4639 - root_mean_squared_error: 125.7336\n",
            "Epoch 29/30\n",
            "567/567 [==============================] - 0s 873us/step - loss: 15439.9668 - root_mean_squared_error: 124.2523\n",
            "Epoch 30/30\n",
            "567/567 [==============================] - 0s 874us/step - loss: 15358.9365 - root_mean_squared_error: 123.9230\n",
            "\n",
            "The learned weight of your model is 0.0155\n",
            "The leaned bias of your model is 130.8460\n",
            "\n"
          ],
          "name": "stdout"
        },
        {
          "output_type": "display_data",
          "data": {
            "image/png": "[encoded data removed]",
            "text/plain": [
              "<Figure size 432x288 with 1 Axes>"
            ]
          },
          "metadata": {
            "tags": [],
            "needs_background": "light"
          }
        },
        {
          "output_type": "display_data",
          "data": {
            "image/png": "[encoded data removed]",
            "text/plain": [
              "<Figure size 432x288 with 1 Axes>"
            ]
          },
          "metadata": {
            "tags": [],
            "needs_background": "light"
          }
        }
      ]
    }
  ]
}
